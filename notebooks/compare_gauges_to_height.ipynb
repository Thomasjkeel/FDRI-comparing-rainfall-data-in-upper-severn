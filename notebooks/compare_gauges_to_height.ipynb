{
 "cells": [
  {
   "cell_type": "code",
   "execution_count": null,
   "metadata": {},
   "outputs": [],
   "source": [
    "import datetime\n",
    "import numpy as np\n",
    "import pandas as pd\n",
    "import geopandas as gpd\n",
    "import xarray as xr\n",
    "import rioxarray\n",
    "\n",
    "import matplotlib.pyplot as plt\n"
   ]
  },
  {
   "cell_type": "code",
   "execution_count": null,
   "metadata": {},
   "outputs": [],
   "source": [
    "SEVERN_EASTING_RANGE = [280000, 400000]\n",
    "SEVERN_NORTHING_RANGE = [260000, 360000]\n",
    "\n",
    "SEVERN_ID_TO_NAMES = {\"Abermule\": 54014, \"Dolwen\": 54080, \"Plynlimon Flume\": 54022,\\\n",
    "                      \"Bewdley\": 54001}"
   ]
  },
  {
   "cell_type": "code",
   "execution_count": null,
   "metadata": {},
   "outputs": [],
   "source": [
    "bewdley_shp = gpd.read_file('Catchment_Data/Bewdley/54001/54001.shp')\n",
    "\n",
    "abermule_shp = gpd.read_file('Catchment_Data/Abermule/54014/54014.shp')\n",
    "dolwen_shp = gpd.read_file('Catchment_Data/Dolwen/54080/54080.shp')\n",
    "plynlimon_shp = gpd.read_file('Catchment_Data/Plynlimon Flume/54022/54022.shp')"
   ]
  },
  {
   "cell_type": "code",
   "execution_count": null,
   "metadata": {},
   "outputs": [],
   "source": [
    "severn_hght = rioxarray.open_rasterio('Catchment_Data/HGHT_SEVERN_1km.tif')\n",
    "severn_hght = severn_hght.sortby('y')\n",
    "severn_hght = severn_hght.sel(band=1)"
   ]
  },
  {
   "cell_type": "code",
   "execution_count": null,
   "metadata": {},
   "outputs": [],
   "source": [
    "def make_region_hght_clip(region_shp, hght_data):\n",
    "    region_clip = hght_data.rio.clip(region_shp.geometry.values, region_shp.crs, drop=False, invert=False)\n",
    "    return region_clip"
   ]
  },
  {
   "cell_type": "code",
   "execution_count": null,
   "metadata": {},
   "outputs": [],
   "source": [
    "def coerse_data_into_haduk_format(one_day_data, offset, xrange, yrange):\n",
    "    \"\"\"\n",
    "    Quick fix for coersing data to have same grid as HADUK.\n",
    "    \"\"\"\n",
    "    one_day_data = one_day_data.assign_coords(x=(one_day_data['x'] + offset))\n",
    "    one_day_data = one_day_data.assign_coords(y=(one_day_data['y'] + offset))\n",
    "    one_day_data = one_day_data.sel(x=xrange, y=yrange)\n",
    "    one_day_data = one_day_data.rename({'x': 'projection_x_coordinate', 'y': 'projection_y_coordinate'})\n",
    "    return one_day_data\n"
   ]
  },
  {
   "cell_type": "code",
   "execution_count": null,
   "metadata": {},
   "outputs": [],
   "source": [
    "def make_region_mask(region_data):\n",
    "    \"\"\"\n",
    "    Make binary mask of clipped region data data\n",
    "    \"\"\"\n",
    "    return (region_data/region_data.where(region_data>0))"
   ]
  }
 ],
 "metadata": {
  "kernelspec": {
   "display_name": "esda",
   "language": "python",
   "name": "python3"
  },
  "language_info": {
   "name": "python",
   "version": "3.12.8"
  }
 },
 "nbformat": 4,
 "nbformat_minor": 2
}

{
 "cells": [
  {
   "cell_type": "markdown",
   "metadata": {},
   "source": [
    "# Examine Plynlimon gauge data\n",
    "Subset based on easting: 275000-320000; northing: 260000-300000"
   ]
  },
  {
   "cell_type": "code",
   "execution_count": 4,
   "metadata": {},
   "outputs": [],
   "source": [
    "import numpy as np\n",
    "import pandas as pd\n",
    "import polars as pl\n"
   ]
  },
  {
   "cell_type": "code",
   "execution_count": null,
   "metadata": {},
   "outputs": [],
   "source": [
    "plynlimon_metadata = pl.read_csv('../gauge_data/mo_plynlimon_area_metadata.csv')\n",
    "plynlimon_all_gauge_data = pl.read_csv('../gauge_data/mo_daily_plynlimon_gauges.csv', try_parse_dates=True)"
   ]
  },
  {
   "cell_type": "code",
   "execution_count": 25,
   "metadata": {},
   "outputs": [
    {
     "data": {
      "text/plain": [
       "275500"
      ]
     },
     "execution_count": 25,
     "metadata": {},
     "output_type": "execute_result"
    }
   ],
   "source": [
    "plynlimon_metadata['EASTING'].min()"
   ]
  },
  {
   "cell_type": "code",
   "execution_count": 13,
   "metadata": {},
   "outputs": [
    {
     "data": {
      "text/html": [
       "<div><style>\n",
       ".dataframe > thead > tr,\n",
       ".dataframe > tbody > tr {\n",
       "  text-align: right;\n",
       "  white-space: pre-wrap;\n",
       "}\n",
       "</style>\n",
       "<small>shape: (610_320, 4)</small><table border=\"1\" class=\"dataframe\"><thead><tr><th>ID</th><th>DATETIME</th><th>PRECIPITATION</th><th>MET_OFFICE_FLAG</th></tr><tr><td>i64</td><td>date</td><td>f64</td><td>i64</td></tr></thead><tbody><tr><td>421234</td><td>1971-01-01</td><td>0.3</td><td>0</td></tr><tr><td>421234</td><td>1971-01-02</td><td>0.0</td><td>0</td></tr><tr><td>421234</td><td>1971-01-04</td><td>0.0</td><td>0</td></tr><tr><td>421234</td><td>1971-01-05</td><td>1.6</td><td>0</td></tr><tr><td>421234</td><td>1971-01-06</td><td>17.9</td><td>0</td></tr><tr><td>&hellip;</td><td>&hellip;</td><td>&hellip;</td><td>&hellip;</td></tr><tr><td>422493</td><td>2004-07-07</td><td>8.7</td><td>0</td></tr><tr><td>519357</td><td>1994-10-01</td><td>12.1</td><td>0</td></tr><tr><td>421484</td><td>2012-01-17</td><td>1.9</td><td>0</td></tr><tr><td>519357</td><td>2004-01-07</td><td>12.4</td><td>0</td></tr><tr><td>421484</td><td>2021-08-05</td><td>7.6</td><td>0</td></tr></tbody></table></div>"
      ],
      "text/plain": [
       "shape: (610_320, 4)\n",
       "┌────────┬────────────┬───────────────┬─────────────────┐\n",
       "│ ID     ┆ DATETIME   ┆ PRECIPITATION ┆ MET_OFFICE_FLAG │\n",
       "│ ---    ┆ ---        ┆ ---           ┆ ---             │\n",
       "│ i64    ┆ date       ┆ f64           ┆ i64             │\n",
       "╞════════╪════════════╪═══════════════╪═════════════════╡\n",
       "│ 421234 ┆ 1971-01-01 ┆ 0.3           ┆ 0               │\n",
       "│ 421234 ┆ 1971-01-02 ┆ 0.0           ┆ 0               │\n",
       "│ 421234 ┆ 1971-01-04 ┆ 0.0           ┆ 0               │\n",
       "│ 421234 ┆ 1971-01-05 ┆ 1.6           ┆ 0               │\n",
       "│ 421234 ┆ 1971-01-06 ┆ 17.9          ┆ 0               │\n",
       "│ …      ┆ …          ┆ …             ┆ …               │\n",
       "│ 422493 ┆ 2004-07-07 ┆ 8.7           ┆ 0               │\n",
       "│ 519357 ┆ 1994-10-01 ┆ 12.1          ┆ 0               │\n",
       "│ 421484 ┆ 2012-01-17 ┆ 1.9           ┆ 0               │\n",
       "│ 519357 ┆ 2004-01-07 ┆ 12.4          ┆ 0               │\n",
       "│ 421484 ┆ 2021-08-05 ┆ 7.6           ┆ 0               │\n",
       "└────────┴────────────┴───────────────┴─────────────────┘"
      ]
     },
     "execution_count": 13,
     "metadata": {},
     "output_type": "execute_result"
    }
   ],
   "source": [
    "plynlimon_all_gauge_data"
   ]
  },
  {
   "cell_type": "code",
   "execution_count": null,
   "metadata": {},
   "outputs": [],
   "source": []
  },
  {
   "cell_type": "code",
   "execution_count": null,
   "metadata": {},
   "outputs": [],
   "source": []
  }
 ],
 "metadata": {
  "kernelspec": {
   "display_name": "esda",
   "language": "python",
   "name": "python3"
  },
  "language_info": {
   "codemirror_mode": {
    "name": "ipython",
    "version": 3
   },
   "file_extension": ".py",
   "mimetype": "text/x-python",
   "name": "python",
   "nbconvert_exporter": "python",
   "pygments_lexer": "ipython3",
   "version": "3.12.8"
  }
 },
 "nbformat": 4,
 "nbformat_minor": 2
}

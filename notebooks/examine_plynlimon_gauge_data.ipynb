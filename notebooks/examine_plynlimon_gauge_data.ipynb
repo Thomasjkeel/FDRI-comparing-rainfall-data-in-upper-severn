{
 "cells": [
  {
   "cell_type": "markdown",
   "metadata": {},
   "source": [
    "# Examine Plynlimon gauge data\n",
    "Subset based on easting: 275000-320000; northing: 260000-300000"
   ]
  },
  {
   "cell_type": "code",
   "execution_count": 3,
   "metadata": {},
   "outputs": [],
   "source": [
    "import polars as pl"
   ]
  },
  {
   "cell_type": "code",
   "execution_count": null,
   "metadata": {},
   "outputs": [],
   "source": [
    "plynlimon_metadata = pl.read_csv('../gauge_data/mo_plynlimon_area_metadata.csv')\n",
    "plynlimon_all_gauge_data = pl.read_csv('../gauge_data/mo_daily_plynlimon_gauges.csv')"
   ]
  },
  {
   "cell_type": "code",
   "execution_count": 8,
   "metadata": {},
   "outputs": [
    {
     "data": {
      "text/html": [
       "<div><style>\n",
       ".dataframe > thead > tr,\n",
       ".dataframe > tbody > tr {\n",
       "  text-align: right;\n",
       "  white-space: pre-wrap;\n",
       "}\n",
       "</style>\n",
       "<small>shape: (611_888, 4)</small><table border=\"1\" class=\"dataframe\"><thead><tr><th>ID</th><th>DAY</th><th>PRECIPITATION</th><th>MET_OFFICE_FLAG</th></tr><tr><td>i64</td><td>str</td><td>f64</td><td>i64</td></tr></thead><tbody><tr><td>421234</td><td>&quot;01-JAN-71&quot;</td><td>0.3</td><td>0</td></tr><tr><td>421234</td><td>&quot;02-JAN-71&quot;</td><td>0.0</td><td>0</td></tr><tr><td>421234</td><td>&quot;03-JAN-71&quot;</td><td>0.0</td><td>0</td></tr><tr><td>421234</td><td>&quot;04-JAN-71&quot;</td><td>0.0</td><td>0</td></tr><tr><td>421234</td><td>&quot;05-JAN-71&quot;</td><td>1.6</td><td>0</td></tr><tr><td>&hellip;</td><td>&hellip;</td><td>&hellip;</td><td>&hellip;</td></tr><tr><td>522873</td><td>&quot;27-JUL-03&quot;</td><td>0.0</td><td>12</td></tr><tr><td>522873</td><td>&quot;28-JUL-03&quot;</td><td>6.5</td><td>12</td></tr><tr><td>522873</td><td>&quot;29-JUL-03&quot;</td><td>15.6</td><td>12</td></tr><tr><td>522873</td><td>&quot;30-JUL-03&quot;</td><td>1.7</td><td>12</td></tr><tr><td>522873</td><td>&quot;31-JUL-03&quot;</td><td>1.6</td><td>12</td></tr></tbody></table></div>"
      ],
      "text/plain": [
       "shape: (611_888, 4)\n",
       "┌────────┬───────────┬───────────────┬─────────────────┐\n",
       "│ ID     ┆ DAY       ┆ PRECIPITATION ┆ MET_OFFICE_FLAG │\n",
       "│ ---    ┆ ---       ┆ ---           ┆ ---             │\n",
       "│ i64    ┆ str       ┆ f64           ┆ i64             │\n",
       "╞════════╪═══════════╪═══════════════╪═════════════════╡\n",
       "│ 421234 ┆ 01-JAN-71 ┆ 0.3           ┆ 0               │\n",
       "│ 421234 ┆ 02-JAN-71 ┆ 0.0           ┆ 0               │\n",
       "│ 421234 ┆ 03-JAN-71 ┆ 0.0           ┆ 0               │\n",
       "│ 421234 ┆ 04-JAN-71 ┆ 0.0           ┆ 0               │\n",
       "│ 421234 ┆ 05-JAN-71 ┆ 1.6           ┆ 0               │\n",
       "│ …      ┆ …         ┆ …             ┆ …               │\n",
       "│ 522873 ┆ 27-JUL-03 ┆ 0.0           ┆ 12              │\n",
       "│ 522873 ┆ 28-JUL-03 ┆ 6.5           ┆ 12              │\n",
       "│ 522873 ┆ 29-JUL-03 ┆ 15.6          ┆ 12              │\n",
       "│ 522873 ┆ 30-JUL-03 ┆ 1.7           ┆ 12              │\n",
       "│ 522873 ┆ 31-JUL-03 ┆ 1.6           ┆ 12              │\n",
       "└────────┴───────────┴───────────────┴─────────────────┘"
      ]
     },
     "execution_count": 8,
     "metadata": {},
     "output_type": "execute_result"
    }
   ],
   "source": [
    "plynlimon_all_gauge_data"
   ]
  },
  {
   "cell_type": "code",
   "execution_count": null,
   "metadata": {},
   "outputs": [],
   "source": []
  },
  {
   "cell_type": "code",
   "execution_count": null,
   "metadata": {},
   "outputs": [],
   "source": []
  }
 ],
 "metadata": {
  "kernelspec": {
   "display_name": "esda",
   "language": "python",
   "name": "python3"
  },
  "language_info": {
   "codemirror_mode": {
    "name": "ipython",
    "version": 3
   },
   "file_extension": ".py",
   "mimetype": "text/x-python",
   "name": "python",
   "nbconvert_exporter": "python",
   "pygments_lexer": "ipython3",
   "version": "3.12.8"
  }
 },
 "nbformat": 4,
 "nbformat_minor": 2
}
